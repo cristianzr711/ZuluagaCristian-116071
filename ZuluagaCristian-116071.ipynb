{
 "cells": [
  {
   "cell_type": "code",
   "execution_count": 6,
   "metadata": {},
   "outputs": [
    {
     "name": "stdout",
     "output_type": "stream",
     "text": [
      "Ingrese un numero entero o decimal cualquiera: -234567\n",
      "El valor absoluto del numero ingresado es:  234567.0\n"
     ]
    }
   ],
   "source": [
    "#Ejercicio Numero 1\n",
    "\n",
    "a=float(input('Ingrese un numero entero o decimal cualquiera: '))\n",
    "if a>=0: #Condicional si, para que si a es mayor a 0 deje el numero intacto.\n",
    "    print('El valor absoluto del numero ingresado es: ',a)\n",
    "else: #Si el numero ingresado es menor a 0, este se multiplicara por -1 para convertirlo en positivo.\n",
    "    a*=-1\n",
    "    print('El valor absoluto del numero ingresado es: ',a)"
   ]
  },
  {
   "cell_type": "code",
   "execution_count": 7,
   "metadata": {},
   "outputs": [
    {
     "name": "stdout",
     "output_type": "stream",
     "text": [
      "Ingrese un numero entero: 12345\n",
      "El numero invertido es:  54321\n"
     ]
    }
   ],
   "source": [
    "#Ejercicio numero 2\n",
    "    \n",
    "b=int(input('Ingrese un numero entero: ')) \n",
    "if b>=0: #Si  el numero ingresado es mayor o igual a 0 se ejecutaran las siguientes condiciones\n",
    "    contador=0 #Contador de digitos del numero\n",
    "    b2=b #Para guardar la variable ingresada originalmente\n",
    "    while b!=0: # b debe ser mayor que 0 para no generar inconsistencias en la division\n",
    "        b=int(b/10)#Con esto se determina cada digito variando el valor de b comenzando en 0\n",
    "        contador=contador+1 #Numero de digitos\n",
    "    b=b2 #Volvemos al valor original de b \n",
    "    b2=0 #La variable b2 se reinicia a 0\n",
    "    while b!=0:# Explicado anteriormente\n",
    "      d=b%10#Nueva variable que almacena el ultimo digito del numero ingresado utilizando el modulo de la division\n",
    "      b=int(b/10)#Explicado anteriormente\n",
    "      contador=contador-1#A medida que avanza el ciclo se disminuye el numero de digitos a analizar que seran el exponente de la siguiente operacion\n",
    "      b2=b2+(d*int(10**contador))#Esta operacion ubica cada numero de forma invertida, dependiendo del numero de digitos como exponente de una base de 10, acumulado en la variable anterior partiendo de 0\n",
    "    print('El numero invertido es: ',b2)\n",
    "\n",
    "else: #Si el numero que se ingresa es  negativo\n",
    "    contador=0\n",
    "    b2=abs(b) #Se hace el procedimiento de forma positiva con el comando abs y se imprime con el signo ingresado en un principio\n",
    "    while abs(b)!=0:\n",
    "        b=int(abs(b)/10)\n",
    "        contador=contador+1\n",
    "    b=b2\n",
    "    b2=0\n",
    "    while b!=0:\n",
    "      d=b%10\n",
    "      b=int(b/10)\n",
    "      contador=contador-1\n",
    "      b2=b2+(d*int(10**contador))\n",
    "    print('El numero invertido es: ',b2*-1)"
   ]
  },
  {
   "cell_type": "code",
   "execution_count": null,
   "metadata": {},
   "outputs": [],
   "source": [
    "#Ejercicio numero 4\n",
    "\n",
    "g=int(input('Inserte un numero entero positivo: '))\n",
    "suma=0 #variable que almacenara la suma de los numeros pares\n",
    "while g>0: # g debe ser mayor que 0 para no generar inconsistencias en la division\n",
    "    digito=int(g%10) #Se determina cada digito variando el valor de g\n",
    "    g=g/10\n",
    "    if digito%2==0: #Si alguno de los digitos del numero es par (El modulo de 2 debe ser igual a 0)\n",
    "        suma=suma+digito #Acumular la variable anterior y sumarle cada digito par empezando desde 0\n",
    "print('La suma de los numeros pares es :',suma) \n"
   ]
  },
  {
   "cell_type": "code",
   "execution_count": 8,
   "metadata": {},
   "outputs": [
    {
     "name": "stdout",
     "output_type": "stream",
     "text": [
      "Por favor, ingrese un numero entero de 3 digitos: 123\n",
      "No Contiene el digito 8.\n"
     ]
    }
   ],
   "source": [
    "#Ejercicio numero 3\n",
    "    \n",
    "f=int(input('Por favor, ingrese un numero entero de 3 digitos: '))\n",
    "if f>0:\n",
    "    c1=int((f%1000)/100) #Determina las centenas de la cifra utilizando el modulo de la division\n",
    "    c2=int((f%100)/10)   #Determina las decenas de la cifra utilizando el modulo de la division\n",
    "    c3=f%10             #Determina las unidades de la cifra utilizando el modulo de la division\n",
    "    if c1==8 or c2==8  or c3==8 : #Si alguna de las cifras es igual a la condicion\n",
    "        print('Contiene el digito 8.')\n",
    "    else:\n",
    "        print('No Contiene el digito 8.') \n",
    "else: #Si el numero que se ingresa es  negativo se hace todo el procedimiento de forma positiva utilizando el comando abs\n",
    "    c1=int((abs(f)%1000)/100)\n",
    "    c2=int((abs(f)%100)/10)   \n",
    "    c3=abs(f)%10             \n",
    "    if c1==8 or c2==8  or c3==8 : \n",
    "        print('Contiene el digito 8.')\n",
    "    else:\n",
    "        print('No Contiene el digito 8.') "
   ]
  },
  {
   "cell_type": "code",
   "execution_count": 9,
   "metadata": {},
   "outputs": [
    {
     "name": "stdout",
     "output_type": "stream",
     "text": [
      "Inserte un numero entero: 123456\n",
      "Hay 0 cincos consecutivos en este numero\n"
     ]
    }
   ],
   "source": [
    "#Ejercicio numero 5\n",
    "\n",
    "h=int(input('Inserte un numero entero: '))\n",
    "if h>=0:\n",
    "    w=0 # Variable que determinara la suma de los 5\n",
    "    contador=0 #Variable que dira cuantos numeros 5 consecutivos hay\n",
    "    while h>0: # h debe ser mayor que 0 para no generar inconsistencias en la division\n",
    "        digito=int(h%10) #Se determina cada digito variando el valor de h\n",
    "        h=h/10\n",
    "        if digito==5: #Si alguno de los digitos del numero es igual a 5 \n",
    "           w=(w+(digito))   #Sumar este 5 con el numero siguiente\n",
    "           if w>10: #Si esta suma es igual a 10\n",
    "               contador+=1 #Agregar 1 a la variable de consecutivos\n",
    "           else:\n",
    "               contador+=0\n",
    "           if w==10: # Si la suma de estos 2 numeros exactamente 10\n",
    "               contador+=2 #Sumar 2 al contador (Esto se debe a que cuando son dos 5 consecutivos lo toma como si fuera solo 1, por eso en esta condicion se debe añadir 2 al contador)\n",
    "    print('Hay', contador,  'cincos consecutivos en este numero') \n",
    "else:#Si el numero que se ingresa es  negativo se hace todo el procedimiento de forma positiva utilizando el comando abs\n",
    "    w=0 \n",
    "    contador=0 \n",
    "    while abs(h)>0:\n",
    "        digito=int(abs(h)%10) \n",
    "        x=abs(h)/10\n",
    "        if digito==5:\n",
    "           w=(w+(digito))\n",
    "           if w>10: \n",
    "               contador+=1 \n",
    "           else:\n",
    "               contador+=0\n",
    "           if w==10: \n",
    "               contador+=2 \n",
    "    print('Hay', contador,  'cincos consecutivos en este numero') \n"
   ]
  },
  {
   "cell_type": "code",
   "execution_count": 10,
   "metadata": {},
   "outputs": [
    {
     "name": "stdout",
     "output_type": "stream",
     "text": [
      "Inserte un numero entero: 12345678\n",
      "La suma de los digitos es:  36\n",
      "El numero  36  no pertenece a la serie de Fibonacci\n"
     ]
    }
   ],
   "source": [
    "#Ejercicio numero 6\n",
    "\n",
    "j=int(input('Inserte un numero entero: '))\n",
    "if j>=0:\n",
    "    k=0 #Variable que almacenara la suma de los digitos\n",
    "    while j>0: # j debe ser mayor que 0 para no generar inconsistencias en la division\n",
    "          k=int(k)+j%10 #Se determina la suma de los digitos almacenando k y variando j\n",
    "          j=j/10\n",
    "    print('La suma de los digitos es: ',int(k))      \n",
    "    a= 0 #Variable 1 para la sucesion de fibonacci\n",
    "    b= 1 #Variable 2 para la sucesion de fibonacci\n",
    "    while b < k: #Si la variaable 2 es menor a la suma de todos los digitos del numero ingresado\n",
    "            a += b #Determinar la sucesion de fibonacci hasta antes de k\n",
    "            b += a\n",
    "    if b > k: #Si la variable 2 en algun momento es mayor que k, igualar a la variable 1 para detener la sucesion\n",
    "                b = a\n",
    "    if b == k: #Cuando la variable 2 sea igual a k\n",
    "        print ('El numero ' , int(k), ' pertenece a la serie de Fibonacci')\n",
    "    else:\n",
    "        print ('El numero ' , int(k), ' no pertenece a la serie de Fibonacci')\n",
    "else:#Si el numero que se ingresa es  negativo se hace todo el procedimiento de forma positiva utilizando el comando abs\n",
    "    k=0 \n",
    "    while abs(j)>0:\n",
    "          k=int(k)+abs(j)%10 \n",
    "          j=abs(j)/10\n",
    "    print('La suma de los digitos es: ',int(k))      \n",
    "    a= 0 \n",
    "    b= 1 \n",
    "    while b < k: \n",
    "            a += b\n",
    "            b += a\n",
    "    if b > k:\n",
    "                b = a\n",
    "    if b == k: \n",
    "        print ('El numero ' , int(k), ' pertenece a la serie de Fibonacci')\n",
    "    else:\n",
    "        print ('El numero ' , int(k), ' no pertenece a la serie de Fibonacci')"
   ]
  },
  {
   "cell_type": "code",
   "execution_count": 11,
   "metadata": {},
   "outputs": [
    {
     "name": "stdout",
     "output_type": "stream",
     "text": [
      "Ingrese un numero entero positivo: 1234567\n",
      "No hay numeros repetidos\n"
     ]
    }
   ],
   "source": [
    "#Ejercicio numero 7\n",
    "\n",
    "l=input('Ingrese un numero entero positivo: ')\n",
    "m='' #Variable de la cadena vacia\n",
    "for indice in range(10): #Para el numero ingresado cada digito esta en el rago de 0 a 9 (10)\n",
    "    if l.count(str(indice))>1: # Si el indice se repite mas de una vez se agrega a la lista de numeros repetidos\n",
    "        m=m+str(indice)+' '\n",
    "    else:# Si el indice no se repite mas de una vez no se agrega a la lista de numeros repetidos\n",
    "        m=m\n",
    "if m!='': #Cuando la cadena ya no este vacia\n",
    "    print('Digitos repetidos: ',m)\n",
    "else: # Si aun sigue vacia\n",
    "    print('No hay numeros repetidos')"
   ]
  },
  {
   "cell_type": "code",
   "execution_count": 12,
   "metadata": {},
   "outputs": [
    {
     "name": "stdout",
     "output_type": "stream",
     "text": [
      "Los multiplos de 3 son: \n",
      "[3, 6, 9, 12, 15, 18, 21, 24, 27, 30, 33, 36, 39, 42, 45]\n",
      "Los multiplos de 4 son:\n",
      "[48, 52, 56, 60, 64, 68, 72, 76, 80, 84, 88, 92, 96, 100]\n"
     ]
    }
   ],
   "source": [
    "#Ejercicio numero 8\n",
    "\n",
    "contador=0 #Contador de multiplos\n",
    "lista1=[] #Lista para los multiplos de 3\n",
    "lista2=[] #Lista para los multiplos de 4\n",
    "print('Los multiplos de 3 son: ')\n",
    "for indice in range(101): #Iteracion para los 100 primeros numeros enteros\n",
    "    if (indice//3)*3==indice and indice!=0: #si la parte entera de la division del indice por 3 multiplicada por 3 es igual al mismo indice y el indice es diferente a 0\n",
    "        lista1.append(indice) #Se agrega a la lista de multiplos de 3 dicho indice\n",
    "        contador+=1\n",
    "        if contador==15:#Cuando se cumpla el limite de multiplos se rompe el ciclo\n",
    "            break\n",
    "print(lista1)\n",
    "print('Los multiplos de 4 son:')\n",
    "for ag in range(indice,101):  #Iteracion para los 100 primeros numeros enteros desde el ultimo indice almacenado\n",
    "    if (ag//4)*4==ag: #si la parte entera de la division del indice por 4 multiplicada por 4 es igual al mismo indice\n",
    "        lista2.append(ag)#Se agrega a la lista de multiplos de 4 dicho indice\n",
    "print(lista2)\n"
   ]
  },
  {
   "cell_type": "code",
   "execution_count": 13,
   "metadata": {},
   "outputs": [
    {
     "name": "stdout",
     "output_type": "stream",
     "text": [
      "Lea y digite los datos con precaucion.\n",
      "Ingrese la coordenada X del circulo 1: 2\n",
      "Ingrese la coordenada Y del circulo 1: 2\n",
      "Ingrese el radio del circulo 1: 2\n",
      "Ingrese la coordenada X del circulo 2: 2\n",
      "Ingrese la coordenada Y del circulo 2: 2\n",
      "Ingrese el radio del circulo 2: 2\n",
      "Ingrese la coordenada en X del punto: 2\n",
      "Ingrese la coordenada en Y del punto: 2\n",
      "Solucion\n",
      "El punto esta dentro de ambos circulos\n"
     ]
    }
   ],
   "source": [
    "#Ejercicio numero 9\n",
    "\n",
    "print('Lea y digite los datos con precaucion.')\n",
    "x1=float(input('Ingrese la coordenada X del circulo 1: '))\n",
    "y1=float(input('Ingrese la coordenada Y del circulo 1: '))\n",
    "r1=float(input('Ingrese el radio del circulo 1: '))\n",
    "x2=float(input('Ingrese la coordenada X del circulo 2: '))\n",
    "y2=float(input('Ingrese la coordenada Y del circulo 2: '))\n",
    "r2=float(input('Ingrese el radio del circulo 2: '))\n",
    "xp=float(input('Ingrese la coordenada en X del punto: '))\n",
    "yp=float(input('Ingrese la coordenada en Y del punto: '))\n",
    "print('Solucion')\n",
    "if r1==0: #Si el radio 1 es igual a 0 no hay circunferencia\n",
    "    print('El radio 1 debe ser mayor a 0')\n",
    "if r2==0: #Si el radio 2 es igual a 0 no hay circunferencia\n",
    "    print('El radio 2 debe ser mayor a 0')\n",
    "if r1!=0 and r2!=0: #Si el radio 1 y radio 2 es diferente de 0\n",
    "    distancia1=((xp-x1)**2+(yp-y1)**2)**0.5 #Distancia del punto (xp,yp) al centro 1\n",
    "    distancia2=((xp-x2)**2+(yp-y2)**2)**0.5 #Distancia del punto (xp,yp) al centro 2\n",
    "#Para entregar una solucion se tienen las siguientes condiciones\n",
    "    if distancia1<=r1 and distancia2<=r2:\n",
    "        print('El punto esta dentro de ambos circulos')\n",
    "    if distancia1<=r1 and distancia2>r2:\n",
    "        print('El punto esta dentro del circulo 1')\n",
    "    if distancia1>r1 and distancia2<=r2:    \n",
    "        print('El punto esta dentro del circulo 2')\n",
    "    if distancia1>r1 and distancia2>r2:\n",
    "        print('El punto esta fuera de ambos circulos')"
   ]
  },
  {
   "cell_type": "code",
   "execution_count": 14,
   "metadata": {},
   "outputs": [
    {
     "name": "stdout",
     "output_type": "stream",
     "text": [
      "Inserte una cadena de texto en minuscula: eshrjdfkguh\n",
      "ESHRJDFKGUH"
     ]
    }
   ],
   "source": [
    "#Ejericio numero 10\n",
    "\n",
    "cadena=str(input('Inserte una cadena de texto en minuscula: '))\n",
    "for indice in range(len(cadena)): #Para un indice en un rango de la longitud de la cadena de texto\n",
    "    caracter = cadena[indice] #Coje desde  el indice 0 de la cadena\n",
    "    caracter = ord(caracter) #A ese indice con el comando ord se le saca su caracter unicode\n",
    "    caracter -=32 #A las minusculas se le restara 32 para que se conviertan en su respectiva mayuscula\n",
    "    print(chr(caracter), end='')"
   ]
  },
  {
   "cell_type": "code",
   "execution_count": 15,
   "metadata": {},
   "outputs": [
    {
     "name": "stdout",
     "output_type": "stream",
     "text": [
      "Ingrese una cadena de texto: jrd dyd  yjfkuf \n",
      "Total vocales mayusculas:  0\n",
      "Total mayusculas con tilde:  0\n",
      "Total minusculas con tilde:  0\n",
      "El numero de digitos es:  0\n",
      "El numero de espacios es:  4\n",
      "Numero de palabras reservadas:  0\n"
     ]
    }
   ],
   "source": [
    "#Ejercicio numero 11\n",
    "\n",
    "string = (input(\"Ingrese una cadena de texto: \"))\n",
    "indice=0 \n",
    "vocales=('A','E','I','O','U','É','Á','Í','Ó','Ú','Ü')\n",
    "mayusculas=0\n",
    "while indice < len(string): #Mientras el indice sea menor a la longitud de la cadena de texto\n",
    "  letra = string[indice] #Coje desde  el indice 0 de la cadena\n",
    "  if letra in vocales: #Si la letra esta en la variable vocales\n",
    "      if letra.isupper() == True: #Si la vocal es mayuscula (esto se verifica con el comando isupper)\n",
    "        mayusculas +=1 #Sumar al contador de vocales mayusculas\n",
    "  indice += 1\n",
    "\n",
    "print(\"Total vocales mayusculas: \" , mayusculas)\n",
    "\n",
    "indice=0\n",
    "lemintilde=0\n",
    "lemaytilde=0\n",
    "tildes=('É','Á','Í','Ó','Ú','é','á','í','ó','ú')\n",
    "while indice < len(string): #Mientras el indice sea menor a la longitud de la cadena de texto\n",
    "  letra = string[indice]  #Coje desde  el indice 0 de la cadena\n",
    "  if letra in tildes: #Si la letra esta en la variable tildes\n",
    "      if letra.isupper() == True: #Si la vocal mayuscula tiene tilde (esto se verifica con el comando isupper)\n",
    "        lemaytilde +=1 #Sumar al contador de vocales mayusculas con tilde\n",
    "      else:\n",
    "        lemintilde +=1 #Sino, sumar al contador de vocales minusculas con tilde\n",
    "  indice += 1\n",
    "\n",
    "print(\"Total mayusculas con tilde: \" , lemaytilde)\n",
    "print(\"Total minusculas con tilde: \" , lemintilde)\n",
    "\n",
    "indice=0\n",
    "digito=0\n",
    "while indice < len(string):#Mientras el indice sea menor a la longitud de la cadena de texto\n",
    "  numero = string[indice] #Coje desde  el indice 0 de la cadena\n",
    "  if numero.isdigit() == True: #Si es un digito (esto se verifica con el comando isdigit)\n",
    "    digito +=1 #Sumar al contador de digitos\n",
    "  indice += 1\n",
    "\n",
    "print(\"El numero de digitos es: \" , digito)\n",
    "\n",
    "indice=0\n",
    "cadvacia=(' ')\n",
    "espacio=0\n",
    "while indice < len(string): #Mientras el indice sea menor a la longitud de la cadena de texto\n",
    "  vacio = string[indice] #Coje desde  el indice 0 de la cadena\n",
    "  if vacio in cadvacia: #Si vacio es un espacio\n",
    "     espacio +=1 #Sumar al contador de espacios\n",
    "  indice += 1\n",
    "\n",
    "print(\"El numero de espacios es: \" , espacio)\n",
    "\n",
    "fra=string.split()\n",
    "indice=0\n",
    "contador=0\n",
    "reservadas=('and','del','for','is','raise','assert','if','else','elif','from','lambda','return','break','global','not','try','class','except','or','while','continue','exec','import','yield','def','finally','in','print')\n",
    "while indice < len(fra): #Mientras el indice sea menor a la longitud de la cadena de texto\n",
    "  rese = fra[indice] #Coje desde  el indice 0 de la cadena\n",
    "  if rese in reservadas: #Si una palabra se encuentra en palabras reservada\n",
    "     contador +=1 #Sumar al contador de palabras reservadas\n",
    "  indice += 1\n",
    "        \n",
    "print (\"Numero de palabras reservadas: \",contador)\n"
   ]
  },
  {
   "cell_type": "code",
   "execution_count": null,
   "metadata": {},
   "outputs": [],
   "source": [
    "#Ejericio numero 12\n",
    "\n",
    "palabra1=str(input('Inserte palabra 1: '))\n",
    "palabra2=str(input('Inserte palabra 2: '))\n",
    "\n",
    "palabra1=palabra1.lower()\n",
    "palabra2=palabra2.lower()\n",
    "\n",
    "# Para definir rango\n",
    "if len(palabra1) < len(palabra2):\n",
    "    rango=len(palabra2)    \n",
    "elif len(palabra1) > len(palabra2):\n",
    "    rango=len(palabra1)\n",
    "# Para cambiar los caracteres especiales   \n",
    "especiales=('áéíóúüñ')\n",
    "normales=('aeiouun')\n",
    "for i in range (len(especiales)):\n",
    "    for j in range (len(palabra1)):\n",
    "         if especiales[i] == palabra1[j]:\n",
    "             palabra1 = palabra1.replace(especiales[i],normales[i])\n",
    "            \n",
    "for i in range (len(especiales)):\n",
    "    for j in range (len(palabra2)):\n",
    "         if especiales[i] == palabra2[j]:\n",
    "             palabra2 = palabra2.replace(palabra2[j],normales[i])\n",
    "\n",
    "for i in range (rango):   \n",
    "    if 97 <= ord(palabra1[i]) <= 122 and 97 <= ord(palabra2[i]) <= 122:\n",
    "        if ord(palabra1[i]) < ord(palabra2[i]):\n",
    "            print('La palabra ',palabra1,' está primero en el diccionario.')\n",
    "            break\n",
    "        elif ord(palabra1[i]) > ord(palabra2[i]):\n",
    "            print('La palabra ',palabra2,' está primero en el diccionario.')\n",
    "            break\n",
    "        elif len(palabra1) < len(palabra2):\n",
    "            print('La palabra ',palabra1,' está primero en el diccionario.')\n",
    "            break\n",
    "        elif len(palabra1) > len(palabra2):\n",
    "            print('La palabra ',palabra2,' está primero en el diccionario.')\n",
    "            break\n",
    "\n",
    "        else:\n",
    "            print('Las palabras son iguales')\n",
    "            break"
   ]
  },
  {
   "cell_type": "code",
   "execution_count": 16,
   "metadata": {},
   "outputs": [
    {
     "name": "stdout",
     "output_type": "stream",
     "text": [
      "Introduzca una cadena de texto: ashrjguh  jykyiuud jkrdtf klh fgui\n",
      "    a    \n",
      "   shr   \n",
      "  jguhj  \n",
      " ykyiuud \n",
      "jkrdtfklh\n",
      "   fgui  \n"
     ]
    }
   ],
   "source": [
    "#%%Ejericio numero 13\n",
    "\n",
    "def leer_texto(enunciado): # Se definen las funciones a utilizar\n",
    "    while True:\n",
    "        try:\n",
    "            n = input(enunciado)\n",
    "            break\n",
    "        except (ValueError, KeyboardInterrupt, EOFError):\n",
    "            print('Por favor ingrese un un texto. Intente nuevamente.')\n",
    "    return n\n",
    "\n",
    "cadena = leer_texto('Introduzca una cadena de texto: ')\n",
    "cadsinespacio = cadena.replace(' ', '') # Se le quitan todos los espacios a la cadena\n",
    "longitud = len(cadsinespacio)\n",
    "numcarac_renglon = 1 # Numero de caracteres de la base del triángulo.\n",
    "contador_ren = 0\n",
    "\n",
    "while True:\n",
    "    longitud -= numcarac_renglon\n",
    "    if longitud <= 0:\n",
    "        break\n",
    "    contador_ren += 1\n",
    "    numcarac_renglon += 2\n",
    "\n",
    "longitud = len(cadsinespacio)# En este punto, la variable longitud habrá cambiado su valor, así que se le vuelve a asignar el que tenía inicialmente.\n",
    "numcarac_renglon -= 2  # Tras el último ciclo esta variable quedó con un excedente de 2. Se compensa restándoselo.\n",
    "start = 0\n",
    "paso = 1\n",
    "\n",
    "for i in range(0, contador_ren):\n",
    "    print(cadsinespacio[start:start+paso].center(numcarac_renglon))\n",
    "    start += paso  # El inicio del slicing para el siguiente renglón se incrementa según la variable \"paso\"\n",
    "    paso += 2  # Y para cada rengón se imprimen 2 caracteres más, por esto, se aumenta la variable paso de 2 en 2.\n",
    "\n",
    "# Para imprimir la última línea:\n",
    "suma = 0  # Cuántos caracteres se han podido imprimir en el triángulo.\n",
    "for i in range(1, numcarac_renglon+1, 2):\n",
    "    suma += i\n",
    "\n",
    "if suma < longitud:  # Verifica si quedaron caracteres sobrantes por fuera del triángulo.\n",
    "    print(cadsinespacio[suma:longitud].center(numcarac_renglon))"
   ]
  },
  {
   "cell_type": "code",
   "execution_count": 19,
   "metadata": {},
   "outputs": [
    {
     "name": "stdout",
     "output_type": "stream",
     "text": [
      "Inserte la cadena que desea organizar alfabeticamente: zre\n",
      "La cadena ordenada alfabeticamente es:  erz"
     ]
    }
   ],
   "source": [
    "#Ejericio numero 14 \n",
    "\n",
    "#Leer una cadena de texto y organice alfabéticamente cada una de las letras que la componen, repitiendo cada una tantas veces como se encuentra.\n",
    "cadena=input('Inserte la cadena que desea organizar alfabeticamente: ')#cadena\n",
    "cadena=cadena.lower()#cadena ingresada en minusculas\n",
    "alfabetica=[]#lista a la que se agregara el codigo unicode de cada elemento\n",
    "ordenalfa=[]#lista donde se pondran en orden los elementos segun su codigo\n",
    "for indice in cadena:\n",
    "    alfabetica.append(ord(indice))\n",
    "ordennum=sorted(alfabetica)\n",
    "for indice in ordennum:\n",
    "    ordenalfa.append(chr(indice)) #en el prden que estan, cada elemento pasa a str\n",
    "print('La cadena ordenada alfabeticamente es: ',''.join(ordenalfa),end='')\n"
   ]
  },
  {
   "cell_type": "code",
   "execution_count": 18,
   "metadata": {},
   "outputs": [
    {
     "name": "stdout",
     "output_type": "stream",
     "text": [
      "Ingrese cada numero separado por espacio: 12 12 13 13\n",
      "El numero de elementos repetidos 2 veces es:  2\n"
     ]
    }
   ],
   "source": [
    "#Ejericio numero 15 \n",
    "\n",
    "lista=input('Ingrese cada numero separado por espacio: ')\n",
    "lista=lista.split() #Me separa los elementos de la cadena por cada espacio que haya\n",
    "lista=list(lista) #De cadena se convierte a una lista\n",
    "listamela=[] #Lista vacia\n",
    "contador=0\n",
    "for elemento in lista: #Para cada lemento que este en la lista\n",
    "    mel=lista.count(elemento) #Contar las veces que se repite el elemento\n",
    "    if mel==2 and elemento not in listamela: #Si se repite 2 veces y el elementoono esta en la lista vacia\n",
    "        listamela.append(elemento) #Agregar este elemento a la lista vacia\n",
    "\n",
    "m=len(listamela)\n",
    "print('El numero de elementos repetidos 2 veces es: ',m)"
   ]
  },
  {
   "cell_type": "code",
   "execution_count": 1,
   "metadata": {},
   "outputs": [
    {
     "name": "stdout",
     "output_type": "stream",
     "text": [
      "Ingrese cada numero separado por espacio: 12 13 14 15 23 43\n",
      "La lista está ordenada.\n",
      "Inserte número que desea agregar a la lista: 32\n",
      "La lista final es:  ['12', '13', '14', '15', '23', '32', '43']\n"
     ]
    }
   ],
   "source": [
    "#Ejericio numero 16 \n",
    "\n",
    "lista=input('Ingrese cada numero de la lista separado por espacio: ')\n",
    "lista=lista.split() #Me separa los elementos de la cadena por cada espacio que haya\n",
    "lista=list(lista) #De cadena se convierte a una lista\n",
    "orden=[] #Lista vacia\n",
    "\n",
    "orden=lista.copy() #Me copia la lista inicial en la lista vacia\n",
    "orden.sort() #Ordena la lista orden\n",
    "\n",
    "if lista == orden: #Si la lista ingresada es igual a la lista ordenada con el comando sort\n",
    "    print('La lista está ordenada.')\n",
    "    lista.append(input('Inserte número que desea agregar a la lista: '))\n",
    "    lista.sort() #Se vuelve a ordenar la lista\n",
    "    print('La lista final es: ',lista)\n",
    "\n",
    "else: #Si la lista ingresada no es igual a la lista ordenada con el comando sort\n",
    "    print('La lista no está ordenada')"
   ]
  },
  {
   "cell_type": "code",
   "execution_count": 8,
   "metadata": {},
   "outputs": [
    {
     "name": "stdout",
     "output_type": "stream",
     "text": [
      "Ingrese una lista de números enteros: [1,2,43,54]\n",
      "El segundo número mayor de la lista es 43.\n"
     ]
    }
   ],
   "source": [
    "#Ejericio numero 17 \n",
    "\n",
    "def leer_lista(enunciado):\n",
    "    '''\n",
    "    Lee una lista ingresada por el usuario.\n",
    "    '''\n",
    "    while True: #Verificar que la lista ingresada sea de digitos, si no mostrara error y le pedira nuevamente una lista de numeros\n",
    "        try:\n",
    "            lista = eval(input(enunciado))\n",
    "            if type(lista) is list:\n",
    "                break\n",
    "            else:\n",
    "                print('Por favor ingrese una lista. Intente nuevamente.')\n",
    "        except (ValueError, EOFError, KeyboardInterrupt, NameError):\n",
    "            print('La entrada no es válida. Por favor ingrese una lista.')\n",
    "    return lista\n",
    "\n",
    "\n",
    "def maximo(lista):\n",
    "    '''\n",
    "    Obtiene el número más grande de la lista ingresada:\n",
    "    '''\n",
    "    if lista==[]:\n",
    "        return None\n",
    "    else:\n",
    "        mas_grande = lista[0]  # Almacenará el elemento más grande de la lista.\n",
    "        for x in lista:\n",
    "            if x> mas_grande:\n",
    "                mas_grande = x\n",
    "        return mas_grande\n",
    "\n",
    "while True: # Se lee la lista, garantizando que ésta solo contenga números enteros:\n",
    "    lista = leer_lista('Ingrese una lista de números enteros: ')\n",
    "    for x in lista:\n",
    "        if type(x) is not int:\n",
    "            print('La lista solo debe contener números enteros.')\n",
    "            break\n",
    "    else:\n",
    "        break\n",
    "    \n",
    "lista_sin_repe = [] #  Se eliminan los elementos repetidos de la lista para que el algoritmo funcione bien:\n",
    "for x in lista:\n",
    "    if x not in lista_sin_repe:\n",
    "        lista_sin_repe.append(x)\n",
    "        \n",
    "mas_grande = maximo(lista_sin_repe)  # Almacenará el elemento más grande de la lista                                     \n",
    "lista_sin_repe.remove(mas_grande) # Se elimina este elemento más grande de la lista\n",
    "segundo = maximo(lista_sin_repe) # Y finalmente se busca el más grande de la nueva lista\n",
    "if segundo is None:\n",
    "    print('En la lista no existe un segundo número mayor.')\n",
    "else:\n",
    "    print(f'El segundo número mayor de la lista es {segundo}.')"
   ]
  },
  {
   "cell_type": "code",
   "execution_count": 9,
   "metadata": {},
   "outputs": [
    {
     "name": "stdout",
     "output_type": "stream",
     "text": [
      "insertar matriz cuadrada: [[1,2,3],[1,2,3],[1,2,3]]\n",
      "tu matriz: \n",
      "[1, 2, 3]\n",
      "[1, 2, 3]\n",
      "[1, 2, 3]\n",
      "la matriz triangular asociada es: \n",
      "[[1, 2, 3], [2, 3], [3]]\n",
      "la fila con mas UNOS es la fila número: 1\n",
      "De la matriz triangular asociada\n"
     ]
    }
   ],
   "source": [
    "#Ejericio numero 18 \n",
    "\n",
    "matriz=eval(input('insertar una matriz cuadrada: '))\n",
    "print('La matriz insertada es: ')\n",
    "for i in matriz:  #se muestra la lista como matriz\n",
    "    print(i)\n",
    "n=0\n",
    "p=[]\n",
    "q=[]\n",
    "print('la matriz triangular asociada es: ')\n",
    "for k in matriz: # se cogen porciones de las sublistas, primero todo y va descendiendo\n",
    "    q.append(k[n:len(matriz)+1])\n",
    "    n=n+1\n",
    "print(q)\n",
    "for h in q:  # ya se tiene la matriz se cuentan los unos\n",
    "    g=h.count(1)\n",
    "    p.append(g)\n",
    "v=max(p)\n",
    "l=1\n",
    "for x in p: # se observa cual fila tiene mas unos\n",
    "    if x==v:\n",
    "        print('la fila con mas UNOS es la fila número:',l)\n",
    "    l=l+1\n",
    "print('De la matriz triangular asociada')"
   ]
  },
  {
   "cell_type": "code",
   "execution_count": 10,
   "metadata": {},
   "outputs": [
    {
     "name": "stdout",
     "output_type": "stream",
     "text": [
      "inserte una lista: [1,2,3,4,8,7,6,9]\n",
      "la sublista mas larga es: \n",
      "[1, 2, 3, 4, 8]\n"
     ]
    }
   ],
   "source": [
    "#Ejercicio numero 19\n",
    "\n",
    "a=eval(input('inserte una lista: '))\n",
    "s=a[0]\n",
    "lista1=[]\n",
    "lista2=[] #Se crean listas vacias que almaceran los elementos de las sublistas\n",
    "\n",
    "o=1\n",
    "for i in a[1:len(a)+1]: # se observa si el primer elemento es mayor\n",
    "    if i>s:\n",
    "        if s not in lista1: # dado el caso que si lo adiciona a una lista\n",
    "            lista1.append(s) \n",
    "        lista1.append(i)\n",
    "        s=i\n",
    "    if i<s: # dado el caso que el primero no sea menor\n",
    "        if len(lista1)>len(lista2):\n",
    "            lista2=lista1[:] # todo lo de la lista 1 se copia en lista 2\n",
    "            lista1=[]\n",
    "            s=i # se modifica y toma el valor de i\n",
    "        else:\n",
    "            lista1=[]\n",
    "            s=i\n",
    "if len(lista1)>len(lista2): # se comparan las longitudes de ambas listas\n",
    "    print('la sublista mas larga es: ')\n",
    "    print(lista1)\n",
    "else:\n",
    "    print('la sublista mas larga es: ')\n",
    "    print(lista2)"
   ]
  },
  {
   "cell_type": "code",
   "execution_count": 11,
   "metadata": {},
   "outputs": [
    {
     "name": "stdout",
     "output_type": "stream",
     "text": [
      "Digite numero de filas de la matriz: 2\n",
      "Digite numero de columnas de la matriz: 2\n",
      "Escriba el termino 1 de la fila 1: 1\n",
      "Escriba el termino 2 de la fila 1: 2\n",
      "Escriba el termino 1 de la fila 2: 3\n",
      "Escriba el termino 2 de la fila 2: 4\n",
      "\n",
      "la matriz original es : \n",
      "[1, 2] \n",
      "[3, 4] \n",
      "\n",
      "la matriz rotada 90 grados antihorario es : \n",
      "[2, 4] \n",
      "[1, 3] \n"
     ]
    }
   ],
   "source": [
    "#Ejericio numero 20. Parte 1\n",
    "\n",
    "matriz=[] #lista vacia para la matriz original\n",
    "rot=[] #Lista vacia para la matriz rotada\n",
    "\n",
    "filas=int(input('Digite numero de filas de la matriz: ')) \n",
    "columnas=int(input('Digite numero de columnas de la matriz: ')) \n",
    "\n",
    "for i in range(filas): #iterar las filas\n",
    "      matriz.append([]) \n",
    "      for j in range (columnas): #iterar las columnas ya ingresando valor\n",
    "         matriz[i].append(int(input(f'Escriba el termino {j+1} de la fila {i+1}: ')))\n",
    "\n",
    "\n",
    "for i in range(columnas): #iterar las columnas\n",
    "    rot.append([]) \n",
    "    for j in range (filas):  #iterar las columnas ya ingresando valor\n",
    "          \n",
    "        rot[i].append(matriz[j][columnas-1-i])#se selecciona la posicion en la matriz vieja teniendo en cuenta la relacion matematica entre las dos matrices (Vieja y rotada)\n",
    "print()\n",
    "print('la matriz original es : ')                                 \n",
    "for i in range(filas):           \n",
    "    print(matriz[i], end=' ')\n",
    "    print()  \n",
    "\n",
    "print()\n",
    "print('la matriz rotada 90 grados antihorario es : ')       \n",
    "for i in range(columnas):           \n",
    "    print(rot[i], end=' ') \n",
    "    print()  "
   ]
  },
  {
   "cell_type": "code",
   "execution_count": 12,
   "metadata": {},
   "outputs": [
    {
     "name": "stdout",
     "output_type": "stream",
     "text": [
      "Digite numero de filas de la matriz: 2\n",
      "Digite numero de columnas de la matriz: 2\n",
      "Escriba el termino 1 de la fila 1: 1\n",
      "Escriba el termino 2 de la fila 1: 2\n",
      "Escriba el termino 1 de la fila 2: 3\n",
      "Escriba el termino 2 de la fila 2: 4\n",
      "\n",
      "la matriz original es : \n",
      "[[1 2]\n",
      " [3 4]]\n",
      "\n",
      "la matriz rotada 90 grados antihorario es : \n",
      "[[2 4]\n",
      " [1 3]]\n"
     ]
    }
   ],
   "source": [
    "#Ejericio numero 20. Parte 2\n",
    "\n",
    "matriz=[]\n",
    "import numpy as np #se importa la libreria numpy\n",
    "filas=int(input('Digite numero de filas de la matriz: ')) \n",
    "columnas=int(input('Digite numero de columnas de la matriz: ')) \n",
    "for i in range(filas): #iterar las filas\n",
    "      matriz.append([]) \n",
    "      for j in range (columnas): #iterar las columnas ya ingresando valor\n",
    "         matriz[i].append(int(input(f'Escriba el termino {j+1} de la fila {i+1}: ')))\n",
    "\n",
    "print()\n",
    "print('la matriz original es : ')         \n",
    "n=np.array(matriz)\n",
    "print(n)\n",
    "print()\n",
    "print('la matriz rotada 90 grados antihorario es : ')\n",
    "k=np.rot90(n) \n",
    "print(k)"
   ]
  }
 ],
 "metadata": {
  "kernelspec": {
   "display_name": "Python 3",
   "language": "python",
   "name": "python3"
  },
  "language_info": {
   "codemirror_mode": {
    "name": "ipython",
    "version": 3
   },
   "file_extension": ".py",
   "mimetype": "text/x-python",
   "name": "python",
   "nbconvert_exporter": "python",
   "pygments_lexer": "ipython3",
   "version": "3.7.3"
  }
 },
 "nbformat": 4,
 "nbformat_minor": 2
}
